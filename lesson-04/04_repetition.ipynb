{
 "cells": [
  {
   "cell_type": "markdown",
   "id": "9a314318",
   "metadata": {},
   "source": [
    "<b>Задания на повторение материала**</b>"
   ]
  },
  {
   "cell_type": "markdown",
   "id": "acc0f61d",
   "metadata": {},
   "source": [
    "<b>1. Создать одномерный массив Numpy под названием a из 12 последовательных целых чисел чисел от 12 до 24 невключительно</b>"
   ]
  },
  {
   "cell_type": "code",
   "execution_count": 1,
   "id": "c7aa11d6",
   "metadata": {},
   "outputs": [],
   "source": [
    "import numpy as np"
   ]
  },
  {
   "cell_type": "code",
   "execution_count": 2,
   "id": "5df9d997",
   "metadata": {},
   "outputs": [
    {
     "data": {
      "text/plain": [
       "array([12, 13, 14, 15, 16, 17, 18, 19, 20, 21, 22, 23])"
      ]
     },
     "execution_count": 2,
     "metadata": {},
     "output_type": "execute_result"
    }
   ],
   "source": [
    "a = np.arange(12,24,1)\n",
    "a"
   ]
  },
  {
   "cell_type": "markdown",
   "id": "0581e32b",
   "metadata": {},
   "source": [
    "<b>2. Создать 5 двумерных массивов разной формы из массива a. Не использовать в аргументах метода reshape число -1.</b>"
   ]
  },
  {
   "cell_type": "code",
   "execution_count": 3,
   "id": "73179aa3",
   "metadata": {},
   "outputs": [
    {
     "data": {
      "text/plain": [
       "array([[12, 13, 14, 15, 16, 17],\n",
       "       [18, 19, 20, 21, 22, 23]])"
      ]
     },
     "execution_count": 3,
     "metadata": {},
     "output_type": "execute_result"
    }
   ],
   "source": [
    "a1 = a.reshape(2, 6)\n",
    "a1"
   ]
  },
  {
   "cell_type": "code",
   "execution_count": 4,
   "id": "350e9e7c",
   "metadata": {},
   "outputs": [
    {
     "data": {
      "text/plain": [
       "array([[12, 13, 14, 15],\n",
       "       [16, 17, 18, 19],\n",
       "       [20, 21, 22, 23]])"
      ]
     },
     "execution_count": 4,
     "metadata": {},
     "output_type": "execute_result"
    }
   ],
   "source": [
    "a2 = a.reshape(3, 4)\n",
    "a2"
   ]
  },
  {
   "cell_type": "code",
   "execution_count": 5,
   "id": "03793e60",
   "metadata": {},
   "outputs": [
    {
     "data": {
      "text/plain": [
       "array([[12, 13, 14],\n",
       "       [15, 16, 17],\n",
       "       [18, 19, 20],\n",
       "       [21, 22, 23]])"
      ]
     },
     "execution_count": 5,
     "metadata": {},
     "output_type": "execute_result"
    }
   ],
   "source": [
    "a3 = a.reshape(4, 3)\n",
    "a3"
   ]
  },
  {
   "cell_type": "code",
   "execution_count": 6,
   "id": "8c04ff50",
   "metadata": {},
   "outputs": [
    {
     "data": {
      "text/plain": [
       "array([[12, 13],\n",
       "       [14, 15],\n",
       "       [16, 17],\n",
       "       [18, 19],\n",
       "       [20, 21],\n",
       "       [22, 23]])"
      ]
     },
     "execution_count": 6,
     "metadata": {},
     "output_type": "execute_result"
    }
   ],
   "source": [
    "a4 = a.reshape(6, 2)\n",
    "a4"
   ]
  },
  {
   "cell_type": "code",
   "execution_count": 7,
   "id": "91042afa",
   "metadata": {},
   "outputs": [
    {
     "data": {
      "text/plain": [
       "array([[12],\n",
       "       [13],\n",
       "       [14],\n",
       "       [15],\n",
       "       [16],\n",
       "       [17],\n",
       "       [18],\n",
       "       [19],\n",
       "       [20],\n",
       "       [21],\n",
       "       [22],\n",
       "       [23]])"
      ]
     },
     "execution_count": 7,
     "metadata": {},
     "output_type": "execute_result"
    }
   ],
   "source": [
    "a5 = a.reshape(12, 1)\n",
    "a5"
   ]
  },
  {
   "cell_type": "markdown",
   "id": "efc79a8b",
   "metadata": {},
   "source": [
    "<b>3. Создать 5 двумерных массивов разной формы из массива a. Использовать в аргументах метода reshape число -1 (в трех примерах - для обозначения числа столбцов, в двух - для строк).</b>"
   ]
  },
  {
   "cell_type": "code",
   "execution_count": 8,
   "id": "f704afc7",
   "metadata": {},
   "outputs": [
    {
     "data": {
      "text/plain": [
       "array([[12, 13, 14, 15, 16, 17],\n",
       "       [18, 19, 20, 21, 22, 23]])"
      ]
     },
     "execution_count": 8,
     "metadata": {},
     "output_type": "execute_result"
    }
   ],
   "source": [
    "b1 = a.reshape(2, -1)\n",
    "b1"
   ]
  },
  {
   "cell_type": "code",
   "execution_count": 9,
   "id": "8b180ebc",
   "metadata": {},
   "outputs": [
    {
     "data": {
      "text/plain": [
       "array([[12, 13, 14, 15],\n",
       "       [16, 17, 18, 19],\n",
       "       [20, 21, 22, 23]])"
      ]
     },
     "execution_count": 9,
     "metadata": {},
     "output_type": "execute_result"
    }
   ],
   "source": [
    "b2 = a.reshape(3, -1)\n",
    "b2"
   ]
  },
  {
   "cell_type": "code",
   "execution_count": 10,
   "id": "bfe190d3",
   "metadata": {},
   "outputs": [
    {
     "data": {
      "text/plain": [
       "array([[12, 13, 14],\n",
       "       [15, 16, 17],\n",
       "       [18, 19, 20],\n",
       "       [21, 22, 23]])"
      ]
     },
     "execution_count": 10,
     "metadata": {},
     "output_type": "execute_result"
    }
   ],
   "source": [
    "b3 = a.reshape(4, -1)\n",
    "b3"
   ]
  },
  {
   "cell_type": "code",
   "execution_count": 11,
   "id": "214ef804",
   "metadata": {},
   "outputs": [
    {
     "data": {
      "text/plain": [
       "array([[12, 13],\n",
       "       [14, 15],\n",
       "       [16, 17],\n",
       "       [18, 19],\n",
       "       [20, 21],\n",
       "       [22, 23]])"
      ]
     },
     "execution_count": 11,
     "metadata": {},
     "output_type": "execute_result"
    }
   ],
   "source": [
    "b4 = a.reshape(-1, 2)\n",
    "b4"
   ]
  },
  {
   "cell_type": "code",
   "execution_count": 12,
   "id": "76c88c70",
   "metadata": {},
   "outputs": [
    {
     "data": {
      "text/plain": [
       "array([[12],\n",
       "       [13],\n",
       "       [14],\n",
       "       [15],\n",
       "       [16],\n",
       "       [17],\n",
       "       [18],\n",
       "       [19],\n",
       "       [20],\n",
       "       [21],\n",
       "       [22],\n",
       "       [23]])"
      ]
     },
     "execution_count": 12,
     "metadata": {},
     "output_type": "execute_result"
    }
   ],
   "source": [
    "b4 = a.reshape(-1, 1)\n",
    "b4"
   ]
  },
  {
   "cell_type": "markdown",
   "id": "8603f7a6",
   "metadata": {},
   "source": [
    "<b>4. Можно ли массив Numpy, состоящий из одного столбца и 12 строк, назвать одномерным?</b>"
   ]
  },
  {
   "cell_type": "code",
   "execution_count": 13,
   "id": "19cccbda",
   "metadata": {},
   "outputs": [
    {
     "data": {
      "text/plain": [
       "2"
      ]
     },
     "execution_count": 13,
     "metadata": {},
     "output_type": "execute_result"
    }
   ],
   "source": [
    "# Посмотрим размерность массива, который состоит из одного столбца и 12 строк:\n",
    "b1.ndim"
   ]
  },
  {
   "cell_type": "markdown",
   "id": "6921d66d",
   "metadata": {},
   "source": [
    "Значит такой массив определяется Numpy, как двухмерный.\\\n",
    "Ответ: массив Numpy, состоящий из одного столбца и 12 строк, нельзя назвать одномерным."
   ]
  },
  {
   "cell_type": "markdown",
   "id": "7c2bfd61",
   "metadata": {},
   "source": [
    "<b>5. Создать массив из 3 строк и 4 столбцов, состоящий из случайных чисел с плавающей запятой из нормального распределения со средним, равным 0 и среднеквадратичным отклонением, равным 1.0. Получить из этого массива одномерный массив с таким же атрибутом size, как и исходный массив.</b>"
   ]
  },
  {
   "cell_type": "code",
   "execution_count": 14,
   "id": "0a35e344",
   "metadata": {},
   "outputs": [
    {
     "name": "stdout",
     "output_type": "stream",
     "text": [
      "size = 12\n"
     ]
    },
    {
     "data": {
      "text/plain": [
       "array([[ 2.1790809 , -0.0484333 ,  0.52389478, -1.75645652],\n",
       "       [ 0.11845161,  0.85214887,  1.76641098, -0.92646014],\n",
       "       [-1.19442198,  0.3058203 , -0.53532339, -0.44829078]])"
      ]
     },
     "execution_count": 14,
     "metadata": {},
     "output_type": "execute_result"
    }
   ],
   "source": [
    "sigma = 1.0\n",
    "mean = 0\n",
    "r = sigma * np.random.randn(3,4) + mean\n",
    "print(f'size = {r.size}')\n",
    "r"
   ]
  },
  {
   "cell_type": "code",
   "execution_count": 15,
   "id": "bafa15ad",
   "metadata": {},
   "outputs": [
    {
     "name": "stdout",
     "output_type": "stream",
     "text": [
      "size = 12\n"
     ]
    },
    {
     "data": {
      "text/plain": [
       "array([ 2.1790809 , -0.0484333 ,  0.52389478, -1.75645652,  0.11845161,\n",
       "        0.85214887,  1.76641098, -0.92646014, -1.19442198,  0.3058203 ,\n",
       "       -0.53532339, -0.44829078])"
      ]
     },
     "execution_count": 15,
     "metadata": {},
     "output_type": "execute_result"
    }
   ],
   "source": [
    "rf = r.flatten()\n",
    "print(f'size = {rf.size}')\n",
    "rf"
   ]
  },
  {
   "cell_type": "markdown",
   "id": "0169cf33",
   "metadata": {},
   "source": [
    "<b>6. Создать массив a, состоящий из целых чисел, убывающих от 20 до 0 невключительно с интервалом 2.</b>"
   ]
  },
  {
   "cell_type": "code",
   "execution_count": 16,
   "id": "57136e7e",
   "metadata": {},
   "outputs": [
    {
     "name": "stdout",
     "output_type": "stream",
     "text": [
      "a = [20 18 16 14 12 10  8  6  4  2]\n"
     ]
    }
   ],
   "source": [
    "a = np.arange(20, 0, -2)\n",
    "print(f'a = {a}')"
   ]
  },
  {
   "cell_type": "markdown",
   "id": "b7199d18",
   "metadata": {},
   "source": [
    "<b>7. Создать массив b, состоящий из 1 строки и 10 столбцов: целых чисел, убывающих от 20 до 1 невключительно с интервалом 2. В чем разница между массивами a и b?</b>"
   ]
  },
  {
   "cell_type": "code",
   "execution_count": 17,
   "id": "1381b732",
   "metadata": {},
   "outputs": [
    {
     "name": "stdout",
     "output_type": "stream",
     "text": [
      "b = [[20 18 16 14 12 10  8  6  4  2]]\n"
     ]
    }
   ],
   "source": [
    "b = np.arange(20, 1, -2).reshape(1, 10)\n",
    "print(f'b = {b}')"
   ]
  },
  {
   "cell_type": "markdown",
   "id": "92adac39",
   "metadata": {},
   "source": [
    "Массивы a и b отличаются размерностью:"
   ]
  },
  {
   "cell_type": "code",
   "execution_count": 18,
   "id": "35719656",
   "metadata": {},
   "outputs": [
    {
     "name": "stdout",
     "output_type": "stream",
     "text": [
      "a.ndim = 1\n",
      "b.ndim = 2\n"
     ]
    }
   ],
   "source": [
    "print(f'a.ndim = {a.ndim}')\n",
    "print(f'b.ndim = {b.ndim}')"
   ]
  },
  {
   "cell_type": "markdown",
   "id": "fb73a283",
   "metadata": {},
   "source": [
    "<b>8. Вертикально соединить массивы a и b. a - двумерный массив из нулей, число строк которого больше 1 и на 1 меньше, чем число строк двумерного массива b, состоящего из единиц. Итоговый массив v должен иметь атрибут size, равный 10.</b>"
   ]
  },
  {
   "cell_type": "code",
   "execution_count": 19,
   "id": "9ed626ec",
   "metadata": {},
   "outputs": [
    {
     "name": "stdout",
     "output_type": "stream",
     "text": [
      "a = \n",
      "[[0 0]\n",
      " [0 0]]\n"
     ]
    }
   ],
   "source": [
    "a = np.zeros([2, 2], dtype = int)\n",
    "print(f'a = \\n{a}')"
   ]
  },
  {
   "cell_type": "code",
   "execution_count": 20,
   "id": "0c4bfb7f",
   "metadata": {},
   "outputs": [
    {
     "name": "stdout",
     "output_type": "stream",
     "text": [
      "b = \n",
      "[[1 1]\n",
      " [1 1]\n",
      " [1 1]]\n"
     ]
    }
   ],
   "source": [
    "b = np.ones([3, 2], dtype = int)\n",
    "print(f'b = \\n{b}')"
   ]
  },
  {
   "cell_type": "code",
   "execution_count": 21,
   "id": "dce65d32",
   "metadata": {},
   "outputs": [
    {
     "name": "stdout",
     "output_type": "stream",
     "text": [
      "v = \n",
      "[[0 0]\n",
      " [0 0]\n",
      " [1 1]\n",
      " [1 1]\n",
      " [1 1]]\n",
      "v.size = 10\n"
     ]
    }
   ],
   "source": [
    "v  = np.vstack([a, b])\n",
    "print(f'v = \\n{v}')\n",
    "print(f'v.size = {v.size}')"
   ]
  },
  {
   "cell_type": "markdown",
   "id": "9ff06c64",
   "metadata": {},
   "source": [
    "<b>9. Создать одномерный массив а, состоящий из последовательности целых чисел от 0 до 12. Поменять форму этого массива, чтобы получилась матрица A (двумерный массив Numpy), состоящая из 4 строк и 3 столбцов. Получить матрицу At путем транспонирования матрицы A. Получить матрицу B, умножив матрицу A на матрицу At с помощью матричного умножения. Какой размер имеет матрица B? Получится ли вычислить обратную матрицу для матрицы B и почему?\n",
    "</b>"
   ]
  },
  {
   "cell_type": "code",
   "execution_count": 22,
   "id": "d2cc70e9",
   "metadata": {},
   "outputs": [
    {
     "name": "stdout",
     "output_type": "stream",
     "text": [
      "a = [ 0  1  2  3  4  5  6  7  8  9 10 11]\n"
     ]
    }
   ],
   "source": [
    "a = np.arange(0, 12, 1, dtype = int)\n",
    "print(f'a = {a}')"
   ]
  },
  {
   "cell_type": "code",
   "execution_count": 23,
   "id": "30e88400",
   "metadata": {},
   "outputs": [
    {
     "data": {
      "text/plain": [
       "array([[ 0,  1,  2],\n",
       "       [ 3,  4,  5],\n",
       "       [ 6,  7,  8],\n",
       "       [ 9, 10, 11]])"
      ]
     },
     "execution_count": 23,
     "metadata": {},
     "output_type": "execute_result"
    }
   ],
   "source": [
    "A = a.reshape(4, 3)\n",
    "A"
   ]
  },
  {
   "cell_type": "code",
   "execution_count": 24,
   "id": "fb4572e6",
   "metadata": {},
   "outputs": [
    {
     "name": "stdout",
     "output_type": "stream",
     "text": [
      "At = \n",
      "[[ 0  3  6  9]\n",
      " [ 1  4  7 10]\n",
      " [ 2  5  8 11]]\n"
     ]
    }
   ],
   "source": [
    "At = A.transpose()\n",
    "print(f'At = \\n{At}')"
   ]
  },
  {
   "cell_type": "code",
   "execution_count": 25,
   "id": "41c509e7",
   "metadata": {},
   "outputs": [
    {
     "name": "stdout",
     "output_type": "stream",
     "text": [
      "B = \n",
      "[[  5  14  23  32]\n",
      " [ 14  50  86 122]\n",
      " [ 23  86 149 212]\n",
      " [ 32 122 212 302]]\n",
      "Размерность B = 2\n",
      "Количество элементов B = 16\n",
      "Размер B = (4, 4)\n"
     ]
    }
   ],
   "source": [
    "B = np.dot(A, At)\n",
    "print(f'B = \\n{B}')\n",
    "print(f'Размерность B = {np.ndim(B)}')\n",
    "print(f'Количество элементов B = {B.size}')\n",
    "print(f'Размер B = {np.shape(B)}')"
   ]
  },
  {
   "cell_type": "code",
   "execution_count": null,
   "id": "a57e1841",
   "metadata": {},
   "outputs": [],
   "source": []
  },
  {
   "cell_type": "markdown",
   "id": "c79abc67",
   "metadata": {},
   "source": [
    "Матрица B имеет размерность 4x4. Она квадратная, т.е. можно было бы попробовать для неё найти обратную матрицу. \\\n",
    "Но определитель матрицы B равен нулю, а в этом случае найти обратную матрицу не можем.\\\n",
    "При попытке найти обратную матрицу (строка закомментирована), получаем ошибку \"LinAlgError: Singular matrix\"."
   ]
  },
  {
   "cell_type": "code",
   "execution_count": 26,
   "id": "d035c3a7",
   "metadata": {},
   "outputs": [
    {
     "name": "stdout",
     "output_type": "stream",
     "text": [
      "Определитель B = 0.0\n"
     ]
    }
   ],
   "source": [
    "print(f'Определитель B = {np.linalg.det(B)}')\n",
    "# print(np.linalg.inv(B))"
   ]
  },
  {
   "cell_type": "markdown",
   "id": "8d51ef5b",
   "metadata": {},
   "source": [
    "<b>10. Инициализируйте генератор случайных чисел с помощью объекта seed, равного 42.</b>"
   ]
  },
  {
   "cell_type": "code",
   "execution_count": 27,
   "id": "f7c61a89",
   "metadata": {},
   "outputs": [],
   "source": [
    "np.random.seed(42)"
   ]
  },
  {
   "cell_type": "markdown",
   "id": "7fe1cb77",
   "metadata": {},
   "source": [
    "<b>11. Создайте одномерный массив c, составленный из последовательности 16-ти случайных равномерно распределенных целых чисел от 0 до 16 невключительно.</b>"
   ]
  },
  {
   "cell_type": "code",
   "execution_count": 28,
   "id": "a18d2bda",
   "metadata": {},
   "outputs": [
    {
     "name": "stdout",
     "output_type": "stream",
     "text": [
      "c = [ 6  3 12 14 10  7 12  4  6  9  2  6 10 10  7  4]\n"
     ]
    }
   ],
   "source": [
    "c = np.random.randint(0, 16, 16)\n",
    "print(f'c = {c}')"
   ]
  },
  {
   "cell_type": "markdown",
   "id": "f001fe10",
   "metadata": {},
   "source": [
    "<b>12. Поменяйте его форму так, чтобы получилась квадратная матрица C. Получите матрицу D, поэлементно прибавив матрицу B из предыдущего вопроса к матрице C, умноженной на 10. Вычислите определитель, ранг и обратную матрицу D_inv для D.</b>"
   ]
  },
  {
   "cell_type": "code",
   "execution_count": 29,
   "id": "4e47d021",
   "metadata": {},
   "outputs": [
    {
     "name": "stdout",
     "output_type": "stream",
     "text": [
      "C = \n",
      "[[ 6  3 12 14]\n",
      " [10  7 12  4]\n",
      " [ 6  9  2  6]\n",
      " [10 10  7  4]]\n"
     ]
    }
   ],
   "source": [
    "C = c.reshape([4, 4])\n",
    "print(f'C = \\n{C}')"
   ]
  },
  {
   "cell_type": "code",
   "execution_count": 30,
   "id": "bf26a7d1",
   "metadata": {},
   "outputs": [
    {
     "name": "stdout",
     "output_type": "stream",
     "text": [
      "D = \n",
      "[[ 65  44 143 172]\n",
      " [114 120 206 162]\n",
      " [ 83 176 169 272]\n",
      " [132 222 282 342]]\n"
     ]
    }
   ],
   "source": [
    "D = C * 10 + B\n",
    "print(f'D = \\n{D}')"
   ]
  },
  {
   "cell_type": "code",
   "execution_count": 31,
   "id": "3d48e6b1",
   "metadata": {},
   "outputs": [
    {
     "name": "stdout",
     "output_type": "stream",
     "text": [
      "Определитель D = -28511999.999999944\n"
     ]
    }
   ],
   "source": [
    "print(f'Определитель D = {np.linalg.det(D)}')"
   ]
  },
  {
   "cell_type": "code",
   "execution_count": 32,
   "id": "f36f6f4a",
   "metadata": {},
   "outputs": [
    {
     "name": "stdout",
     "output_type": "stream",
     "text": [
      "Ранг D = 4\n"
     ]
    }
   ],
   "source": [
    "print(f'Ранг D = {np.linalg.matrix_rank(D)}')"
   ]
  },
  {
   "cell_type": "code",
   "execution_count": 33,
   "id": "4ae9a254",
   "metadata": {},
   "outputs": [
    {
     "name": "stdout",
     "output_type": "stream",
     "text": [
      "D_inv = \n",
      "[[ 0.00935396  0.04486532  0.05897517 -0.07286055]\n",
      " [-0.01503577 -0.00122896 -0.00192971  0.00967873]\n",
      " [-0.00356692 -0.01782828 -0.04152146  0.04326178]\n",
      " [ 0.00909091 -0.00181818  0.01272727 -0.01090909]]\n"
     ]
    }
   ],
   "source": [
    "D_inv = np.linalg.inv(D)\n",
    "print(f'D_inv = \\n{D_inv}')"
   ]
  },
  {
   "cell_type": "markdown",
   "id": "b72b6b54",
   "metadata": {},
   "source": [
    "<b>13. Приравняйте к нулю отрицательные числа в матрице D_inv, а положительные - к единице. Убедитесь, что в матрице D_inv остались только нули и единицы. С помощью функции numpy.where, используя матрицу D_inv в качестве маски, а матрицы B и C - в качестве источников данных, получите матрицу E размером 4x4.  Элементы матрицы E, для которых соответствующий элемент матрицы D_inv равен 1, должны быть равны соответствующему элементу матрицы B, а элементы матрицы E, для которых соответствующий элемент матрицы D_inv равен 0, должны быть равны соответствующему элементу матрицы C.</b>"
   ]
  },
  {
   "cell_type": "code",
   "execution_count": 34,
   "id": "b351ff21",
   "metadata": {},
   "outputs": [
    {
     "name": "stdout",
     "output_type": "stream",
     "text": [
      "[[1 1 1 0]\n",
      " [0 0 0 1]\n",
      " [0 0 0 1]\n",
      " [1 0 1 0]]\n"
     ]
    }
   ],
   "source": [
    "D_inv_new = np.where(D_inv < 0, 0, 1) \n",
    "# Сделал другое имя для матрицы, чтобы не перезатирать исходную матрицу и не перезапускать все шаги снова\n",
    "print(D_inv_new)"
   ]
  },
  {
   "cell_type": "code",
   "execution_count": 35,
   "id": "cbe725a6",
   "metadata": {},
   "outputs": [
    {
     "name": "stdout",
     "output_type": "stream",
     "text": [
      "В данной матрице нет элементов отличающихся от 0 или 1\n"
     ]
    }
   ],
   "source": [
    "i = np.where((D_inv_new != 0) | (D_inv_new != 1), 0, 1)\n",
    "if(i.sum()):\n",
    "    print('В данной матрице есть элементы отличающиеся от 0 или 1')\n",
    "else:\n",
    "    print('В данной матрице нет элементов отличающихся от 0 или 1')"
   ]
  },
  {
   "cell_type": "code",
   "execution_count": 36,
   "id": "fb7666e2",
   "metadata": {},
   "outputs": [
    {
     "name": "stdout",
     "output_type": "stream",
     "text": [
      "E = \n",
      "[[  5  14  23  14]\n",
      " [ 10   7  12 122]\n",
      " [  6   9   2 212]\n",
      " [ 32  10 212   4]]\n"
     ]
    }
   ],
   "source": [
    "E = np.where(D_inv_new == 1, B, C)\n",
    "print(f'E = \\n{E}')"
   ]
  }
 ],
 "metadata": {
  "kernelspec": {
   "display_name": "Python 3 (ipykernel)",
   "language": "python",
   "name": "python3"
  },
  "language_info": {
   "codemirror_mode": {
    "name": "ipython",
    "version": 3
   },
   "file_extension": ".py",
   "mimetype": "text/x-python",
   "name": "python",
   "nbconvert_exporter": "python",
   "pygments_lexer": "ipython3",
   "version": "3.9.5"
  }
 },
 "nbformat": 4,
 "nbformat_minor": 5
}
