{
 "cells": [
  {
   "cell_type": "markdown",
   "id": "b125273d",
   "metadata": {},
   "source": [
    "<b>Задание 1</b>\\\n",
    "Импортируйте библиотеку Numpy и дайте ей псевдоним np.\n",
    "Создайте массив Numpy под названием a размером 5x2, то есть состоящий из 5 строк и 2 столбцов. Первый столбец должен содержать числа 1, 2, 3, 3, 1, а второй - числа 6, 8, 11, 10, 7. Будем считать, что каждый столбец - это признак, а строка - наблюдение. Затем найдите среднее значение по каждому признаку, используя метод mean массива Numpy. Результат запишите в массив mean_a, в нем должно быть 2 элемента."
   ]
  },
  {
   "cell_type": "code",
   "execution_count": 1,
   "id": "ed3f0fb0",
   "metadata": {},
   "outputs": [
    {
     "name": "stdout",
     "output_type": "stream",
     "text": [
      "Массив: \n",
      "[[ 1  6]\n",
      " [ 2  8]\n",
      " [ 3 11]\n",
      " [ 3 10]\n",
      " [ 1  7]]\n",
      "Среднее по столбцам: [2.  8.4]\n"
     ]
    }
   ],
   "source": [
    "import numpy as np\n",
    "a = np.array([[1, 6],\n",
    "             [2, 8],\n",
    "             [3, 11],\n",
    "             [3, 10],\n",
    "             [1, 7]]\n",
    "            )\n",
    "print(f'Массив: \\n{a}')\n",
    "\n",
    "mean_a = a.mean(axis=0)\n",
    "print(f'Среднее по столбцам: { mean_a }')"
   ]
  },
  {
   "cell_type": "markdown",
   "id": "5d7e15d1",
   "metadata": {},
   "source": [
    "<b>Задание 2</b>\\\n",
    "Вычислите массив a_centered, отняв от значений массива “а” средние значения соответствующих признаков, содержащиеся в массиве mean_a. Вычисление должно производиться в одно действие. Получившийся массив должен иметь размер 5x2."
   ]
  },
  {
   "cell_type": "code",
   "execution_count": 2,
   "id": "d15837f6",
   "metadata": {},
   "outputs": [
    {
     "name": "stdout",
     "output_type": "stream",
     "text": [
      "Массив \"отцентрированных\" значений признаков:\n",
      " [[-1.  -2.4]\n",
      " [ 0.  -0.4]\n",
      " [ 1.   2.6]\n",
      " [ 1.   1.6]\n",
      " [-1.  -1.4]]\n"
     ]
    }
   ],
   "source": [
    "a_centered = a - a.mean(axis=0)\n",
    "print(f'Массив \"отцентрированных\" значений признаков:\\n {a_centered}')"
   ]
  },
  {
   "cell_type": "markdown",
   "id": "38c7a1a5",
   "metadata": {},
   "source": [
    "<b>Задание 3</b> \\\n",
    "Найдите скалярное произведение столбцов массива a_centered. В результате должна получиться величина a_centered_sp. Затем поделите a_centered_sp на N-1, где N - число наблюдений.\n"
   ]
  },
  {
   "cell_type": "code",
   "execution_count": 3,
   "id": "50f61f77",
   "metadata": {},
   "outputs": [
    {
     "name": "stdout",
     "output_type": "stream",
     "text": [
      "a_centered_sp = 8.0\n",
      "a_centered_sp / (N - 1) = 2.0\n"
     ]
    }
   ],
   "source": [
    "a_centered_sp = a_centered[:,0] @ a_centered[:,1]\n",
    "print(f'a_centered_sp = {a_centered_sp}')\n",
    "print(f'a_centered_sp / (N - 1) = {a_centered_sp / (len(a_centered[:,0]) - 1)}')"
   ]
  },
  {
   "cell_type": "markdown",
   "id": "803d065d",
   "metadata": {},
   "source": [
    "<b>Задание 4**</b>\\\n",
    "Число, которое мы получили в конце задания 3 является ковариацией двух признаков, содержащихся в массиве “а”. В задании 4 мы делили сумму произведений центрированных признаков на N-1, а не на N, поэтому полученная нами величина является несмещенной оценкой ковариации.\\\n",
    "В этом задании проверьте получившееся число, вычислив ковариацию еще одним способом - с помощью функции np.cov. В качестве аргумента m функция np.cov должна принимать транспонированный массив “a”. В получившейся ковариационной матрице (массив Numpy размером 2x2) искомое значение ковариации будет равно элементу в строке с индексом 0 и столбце с индексом 1.\n"
   ]
  },
  {
   "cell_type": "code",
   "execution_count": 4,
   "id": "685e9d3b",
   "metadata": {},
   "outputs": [
    {
     "name": "stdout",
     "output_type": "stream",
     "text": [
      "Транспонированная матрица a = \n",
      "[[ 1  2  3  3  1]\n",
      " [ 6  8 11 10  7]]\n",
      "\n",
      "Ковариационная матрица = \n",
      "[[1.  2. ]\n",
      " [2.  4.3]]\n",
      "\n",
      "Значение ковариации = 2.0\n"
     ]
    }
   ],
   "source": [
    "m = np.transpose(a)\n",
    "print(f'Транспонированная матрица a = \\n{m}\\n')\n",
    "a_cov = np.cov(m)\n",
    "print(f'Ковариационная матрица = \\n{np.cov(m)}\\n')\n",
    "cov = a_cov[0, 1]\n",
    "print(f'Значение ковариации = {cov}')"
   ]
  },
  {
   "cell_type": "code",
   "execution_count": null,
   "id": "29c9140a",
   "metadata": {},
   "outputs": [],
   "source": []
  }
 ],
 "metadata": {
  "kernelspec": {
   "display_name": "Python 3 (ipykernel)",
   "language": "python",
   "name": "python3"
  },
  "language_info": {
   "codemirror_mode": {
    "name": "ipython",
    "version": 3
   },
   "file_extension": ".py",
   "mimetype": "text/x-python",
   "name": "python",
   "nbconvert_exporter": "python",
   "pygments_lexer": "ipython3",
   "version": "3.9.5"
  }
 },
 "nbformat": 4,
 "nbformat_minor": 5
}
